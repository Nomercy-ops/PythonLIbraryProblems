{
 "cells": [
  {
   "cell_type": "markdown",
   "source": [
    "@Author: Rikesh Chhetri\n",
    "\n",
    "@Date: 2021-07-13 \n",
    "\n",
    "@Last Modified by: Rikesh Chhetri\n",
    "\n",
    "@Last Modified time: 2021-07-13 07:03:30\n",
    "\n",
    "@Title :  Program to change the score in row 'd' to 11.5."
   ],
   "metadata": {}
  },
  {
   "cell_type": "code",
   "execution_count": null,
   "source": [
    "import pandas as pd\n",
    "from LogHandler import logger\n",
    "from dictionaryData import SampleData \n",
    "\n",
    "def change_score_of_row():\n",
    "    try:\n",
    "        myDictionary = SampleData.exam_data\n",
    "        index = SampleData.labels\n",
    "        data_frame = pd.DataFrame(myDictionary,index)\n",
    "        data_frame.loc['d','score'] = 11.5\n",
    "        logger.info(data_frame)\n",
    "\n",
    "    except Exception as e:\n",
    "        logger.error(e)\n",
    "\n",
    "change_score_of_row()"
   ],
   "outputs": [],
   "metadata": {}
  }
 ],
 "metadata": {
  "orig_nbformat": 4,
  "language_info": {
   "name": "python"
  }
 },
 "nbformat": 4,
 "nbformat_minor": 2
}