{
 "cells": [
  {
   "cell_type": "markdown",
   "source": [
    "@Author: Rikesh Chhetri\n",
    "\n",
    "@Date: 2021-07-12 \n",
    "\n",
    "@Last Modified by: Rikesh Chhetri\n",
    "\n",
    "@Last Modified time: 2021-07-12 07:03:30\n",
    "\n",
    "@Title :  Program to convert a Panda module Series to Python list and it's type."
   ],
   "metadata": {}
  },
  {
   "cell_type": "code",
   "execution_count": null,
   "source": [
    "import pandas as pd\n",
    "from LogHandler import logger\n",
    "\n",
    "def convert_series_tolist():\n",
    "    try:\n",
    "        data_series = pd.Series([10,20,30,40,50])\n",
    "        logger.info(\"panda series : \")\n",
    "        logger.info(data_series)\n",
    "        #converting panda series to a list.\n",
    "        myList = data_series.tolist()\n",
    "        print(\"converted list: \",myList)\n",
    "        logger.info(type(myList))\n",
    "\n",
    "    except Exception as e:\n",
    "        logger.error(e)\n",
    "\n",
    "convert_series_tolist()"
   ],
   "outputs": [],
   "metadata": {}
  }
 ],
 "metadata": {
  "orig_nbformat": 4,
  "language_info": {
   "name": "python"
  }
 },
 "nbformat": 4,
 "nbformat_minor": 2
}