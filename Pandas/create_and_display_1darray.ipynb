{
 "cells": [
  {
   "cell_type": "markdown",
   "source": [
    "@Author: Rikesh Chhetri\n",
    "\n",
    "@Date: 2021-07-12 \n",
    "\n",
    "@Last Modified by: Rikesh Chhetri\n",
    "\n",
    "@Last Modified time: 2021-07-12 07:03:30\n",
    "\n",
    "@Title :  Program to create and display a one-dimensional array-like object\n",
    "containing an array of data using Pandas module."
   ],
   "metadata": {}
  },
  {
   "cell_type": "code",
   "execution_count": null,
   "source": [
    "import numpy as np\n",
    "import pandas as pd\n",
    "from LogHandler import logger\n",
    "\n",
    "def display_1darray():\n",
    "    try:\n",
    "        myArray = np.array([10,20,30,40,50])\n",
    "        data_series = pd.Series(myArray)\n",
    "        logger.info(data_series)\n",
    "    \n",
    "    except Exception as e:\n",
    "        logger.error(e)\n",
    "        pass\n",
    "        \n",
    "display_1darray()\n"
   ],
   "outputs": [],
   "metadata": {}
  }
 ],
 "metadata": {
  "orig_nbformat": 4,
  "language_info": {
   "name": "python"
  }
 },
 "nbformat": 4,
 "nbformat_minor": 2
}