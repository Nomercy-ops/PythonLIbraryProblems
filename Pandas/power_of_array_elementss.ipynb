{
 "cells": [
  {
   "cell_type": "markdown",
   "source": [
    "@Author: Rikesh Chhetri\n",
    "\n",
    "@Date: 2021-07-12 \n",
    "\n",
    "@Last Modified by: Rikesh Chhetri\n",
    "\n",
    "@Last Modified time: 2021-07-12 07:03:30\n",
    "\n",
    "@Title :  Program to get the powers of an array values element-wise.\n",
    "\n",
    "Note: First array elements raised to powers from second array.\n",
    "\n",
    "Original array\n",
    "\n",
    "[0 1 2 3 4 5 6]\n",
    "\n",
    "First array elements raised to powers from second array, element-wise:\n",
    "\n",
    "[ 0 1 8 27 64 125 216]"
   ],
   "metadata": {}
  },
  {
   "cell_type": "code",
   "execution_count": null,
   "source": [
    "import numpy as np \n",
    "from LogHandler import logger\n",
    "\n",
    "def powerOfArrayElements():\n",
    "    try:\n",
    "        myArray1 = np.arange(7)\n",
    "        myArray2 = np.array([3])\n",
    "        # getting power of array elements\n",
    "        array_power = np.power(myArray1,myArray2)\n",
    "        logger.info(array_power)\n",
    "\n",
    "    except Exception as e:\n",
    "        logger.error(e)\n",
    "\n",
    "powerOfArrayElements()"
   ],
   "outputs": [],
   "metadata": {}
  }
 ],
 "metadata": {
  "orig_nbformat": 4,
  "language_info": {
   "name": "python"
  }
 },
 "nbformat": 4,
 "nbformat_minor": 2
}