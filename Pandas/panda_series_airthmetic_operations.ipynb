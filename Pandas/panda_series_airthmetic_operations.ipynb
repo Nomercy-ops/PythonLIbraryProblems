{
 "cells": [
  {
   "cell_type": "markdown",
   "source": [
    "@Author: Rikesh Chhetri\n",
    "\n",
    "@Date: 2021-07-12 \n",
    "\n",
    "@Last Modified by: Rikesh Chhetri\n",
    "\n",
    "@Last Modified time: 2021-07-12 07:03:30\n",
    "\n",
    "@Title :  Program to add, subtract, multiple and divide two Pandas Series.\n",
    "\n",
    "Sample Series: [2, 4, 6, 8, 10], [1, 3, 5, 7, 9]"
   ],
   "metadata": {}
  },
  {
   "cell_type": "code",
   "execution_count": null,
   "source": [
    "import pandas as pd\n",
    "from LogHandler import logger\n",
    "\n",
    "def airthmetic_operations():\n",
    "    try:\n",
    "        data_series1 = pd.Series([2,4,6,8,10])\n",
    "        data_series2 = pd.Series([1,3,5,7,9])\n",
    "\n",
    "        logger.info('Addition of panda series: ')\n",
    "        add_series = data_series1 + data_series2\n",
    "        logger.info(add_series)\n",
    "\n",
    "        logger.info('Subtraction of panda series: ')\n",
    "        subtract_series = data_series1 - data_series2\n",
    "        logger.info(subtract_series)\n",
    "\n",
    "        logger.info('Multiplication of panda series: ')\n",
    "        multiply_series = data_series1 * data_series2\n",
    "        logger.info(multiply_series)\n",
    "\n",
    "        logger.info('Division of panda series: ')\n",
    "        divide_series = data_series1 / data_series2\n",
    "        logger.info(divide_series)\n",
    "\n",
    "    except Exception as e:\n",
    "        logger.error(e)\n",
    "\n",
    "airthmetic_operations()"
   ],
   "outputs": [],
   "metadata": {}
  }
 ],
 "metadata": {
  "orig_nbformat": 4,
  "language_info": {
   "name": "python"
  }
 },
 "nbformat": 4,
 "nbformat_minor": 2
}