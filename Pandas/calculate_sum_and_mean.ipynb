{
 "cells": [
  {
   "cell_type": "markdown",
   "source": [
    "@Author: Rikesh Chhetri\n",
    "\n",
    "@Date: 2021-07-13 \n",
    "\n",
    "@Last Modified by: Rikesh Chhetri\n",
    "\n",
    "@Last Modified time: 2021-07-13 07:03:30\n",
    "\n",
    "@Title :  Program to calculate the sum of the examination attempts by the\n",
    "students."
   ],
   "metadata": {}
  },
  {
   "cell_type": "code",
   "execution_count": 13,
   "source": [
    "import pandas as pd\n",
    "from LogHandler import logger\n",
    "from dictionaryData import SampleData \n",
    "\n",
    "def calculate_sum_of_attempts():\n",
    "    try:\n",
    "        myDictionary = SampleData.exam_data\n",
    "        index = SampleData.labels\n",
    "        data_frame = pd.DataFrame(myDictionary,index)\n",
    "        logger.info(\"\\nSum of the examination attempts by the students:\")\n",
    "        logger.info(data_frame['attempts'].sum())\n",
    "        \n",
    "    except Exception as e:\n",
    "        logger.error(e)\n",
    "\n",
    "calculate_sum_of_attempts()"
   ],
   "outputs": [],
   "metadata": {}
  },
  {
   "cell_type": "markdown",
   "source": [
    "@Author: Rikesh Chhetri\n",
    "\n",
    "@Date: 2021-07-13 \n",
    "\n",
    "@Last Modified by: Rikesh Chhetri\n",
    "\n",
    "@Last Modified time: 2021-07-13 07:03:30\n",
    "\n",
    "@Title :  Program to calculate the mean score for each different student in\n",
    "DataFrame."
   ],
   "metadata": {}
  },
  {
   "cell_type": "code",
   "execution_count": 12,
   "source": [
    "import pandas as pd\n",
    "from LogHandler import logger\n",
    "from dictionaryData import SampleData \n",
    "\n",
    "def calculate_mean_score():\n",
    "    try:\n",
    "        myDictionary = SampleData.exam_data\n",
    "        index = SampleData.labels\n",
    "        data_frame = pd.DataFrame(myDictionary,index)\n",
    "        logger.info('mean score for each different student in DataFrame are: ')\n",
    "        logger.info(data_frame['score'].mean())\n",
    "\n",
    "    except Exception as e:\n",
    "        logger.error(e)\n",
    "\n",
    "calculate_mean_score()"
   ],
   "outputs": [],
   "metadata": {}
  }
 ],
 "metadata": {
  "orig_nbformat": 4,
  "language_info": {
   "name": "python"
  }
 },
 "nbformat": 4,
 "nbformat_minor": 2
}