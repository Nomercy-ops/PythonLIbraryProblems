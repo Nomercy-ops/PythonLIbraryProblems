{
 "cells": [
  {
   "cell_type": "markdown",
   "source": [
    "@Author: Rikesh Chhetri\n",
    "\n",
    "@Date: 2021-07-13 \n",
    "\n",
    "@Last Modified by: Rikesh Chhetri\n",
    "\n",
    "@Last Modified time: 2021-07-13 07:03:30\n",
    "\n",
    "@Title :  Program to count the number of rows and columns of a DataFrame.\n"
   ],
   "metadata": {}
  },
  {
   "cell_type": "code",
   "execution_count": null,
   "source": [
    "import pandas as pd \n",
    "from LogHandler import logger\n",
    "from dictionaryData import SampleData \n",
    "\n",
    "def count_rows_and_columns():\n",
    "    try:\n",
    "        myDictionary = SampleData.exam_data\n",
    "        index = SampleData.labels\n",
    "        data_frame = pd.DataFrame(myDictionary,index)\n",
    "        rows_count = len(data_frame.axes[0])\n",
    "        column_count = len(data_frame.axes[1])\n",
    "        print('The number of rows in data frame are : ',rows_count)\n",
    "        print('The number of columns in data frame are : ',column_count)\n",
    "\n",
    "    except Exception as e:\n",
    "        logger.error(e)\n",
    "\n",
    "count_rows_and_columns()"
   ],
   "outputs": [],
   "metadata": {}
  }
 ],
 "metadata": {
  "orig_nbformat": 4,
  "language_info": {
   "name": "python"
  }
 },
 "nbformat": 4,
 "nbformat_minor": 2
}