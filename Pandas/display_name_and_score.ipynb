{
 "cells": [
  {
   "cell_type": "markdown",
   "source": [
    "@Author: Rikesh Chhetri\n",
    "\n",
    "@Date: 2021-07-13 \n",
    "\n",
    "@Last Modified by: Rikesh Chhetri\n",
    "\n",
    "@Last Modified time: 2021-07-13 07:03:30\n",
    "\n",
    "@Title :  Program to select the 'name' and 'score' columns from the following\n",
    "DataFrame."
   ],
   "metadata": {}
  },
  {
   "cell_type": "code",
   "execution_count": 4,
   "source": [
    "import pandas as pd \n",
    "from LogHandler import logger\n",
    "from dictionaryData import SampleData \n",
    "\n",
    "def display_name_and_score():\n",
    "    try:\n",
    "        myDictionary = SampleData.exam_data\n",
    "        index = SampleData.labels\n",
    "        data_frame = pd.DataFrame(myDictionary,index)\n",
    "        logger.info(data_frame[['name','score']])\n",
    "\n",
    "    except Exception as e:\n",
    "        logger.error(e)\n",
    "\n",
    "display_name_and_score()"
   ],
   "outputs": [],
   "metadata": {}
  }
 ],
 "metadata": {
  "orig_nbformat": 4,
  "language_info": {
   "name": "python"
  }
 },
 "nbformat": 4,
 "nbformat_minor": 2
}