{
 "cells": [
  {
   "cell_type": "markdown",
   "source": [
    "@Author: Rikesh Chhetri\n",
    "\n",
    "@Date: 2021-07-13 \n",
    "\n",
    "@Last Modified by: Rikesh Chhetri\n",
    "\n",
    "@Last Modified time: 2021-07-13 07:03:30\n",
    "\n",
    "@Title :  Program to append a new row 'k' to data frame with given values for\n",
    "each column. Now delete the new row and return the original DataFrame."
   ],
   "metadata": {}
  },
  {
   "cell_type": "code",
   "execution_count": null,
   "source": [
    "import pandas as pd\n",
    "from LogHandler import logger\n",
    "from dictionaryData import SampleData \n",
    "\n",
    "def append_and_deleterow():\n",
    "    try:\n",
    "        myDictionary = SampleData.exam_data\n",
    "        index = SampleData.labels\n",
    "        data_frame = pd.DataFrame(myDictionary,index)\n",
    "        # appending new row with index k and column values\n",
    "        data_frame.loc['k']= [\"Suresh\", 15.5, 1, \"yes\"]\n",
    "        logger.info(data_frame)\n",
    "        # deleting new row\n",
    "        data_frame = data_frame.drop('k')\n",
    "        logger.info(data_frame)\n",
    "        \n",
    "    except Exception as e:\n",
    "        logger.error(e)\n",
    "\n",
    "append_and_deleterow()"
   ],
   "outputs": [],
   "metadata": {}
  },
  {
   "cell_type": "markdown",
   "source": [
    "@Author: Rikesh Chhetri\n",
    "\n",
    "@Date: 2021-07-13 \n",
    "\n",
    "@Last Modified by: Rikesh Chhetri\n",
    "\n",
    "@Last Modified time: 2021-07-13 07:03:30\n",
    "\n",
    "@Title :  Program to sort the DataFrame first by 'name' in descending order,\n",
    "then by 'score' in ascending order."
   ],
   "metadata": {}
  },
  {
   "cell_type": "code",
   "execution_count": null,
   "source": [
    "import pandas as pd\n",
    "from LogHandler import logger\n",
    "from dictionaryData import SampleData \n",
    "\n",
    "def sort_by_name_and_score():\n",
    "    try:\n",
    "        myDictionary = SampleData.exam_data\n",
    "        index = SampleData.labels\n",
    "        data_frame = pd.DataFrame(myDictionary,index)\n",
    "        logger.info(\"\\nsorting student data by name in descending order\")\n",
    "        logger.info(data_frame.sort_values(['name'],ascending = False))\n",
    "        logger.info(\"sorting student data by score in ascending order\")\n",
    "        logger.info(data_frame.sort_values(['score']))\n",
    "\n",
    "    except Exception as e:\n",
    "        logger.error(e)\n",
    "\n",
    "sort_by_name_and_score()"
   ],
   "outputs": [],
   "metadata": {}
  }
 ],
 "metadata": {
  "orig_nbformat": 4,
  "language_info": {
   "name": "python"
  }
 },
 "nbformat": 4,
 "nbformat_minor": 2
}