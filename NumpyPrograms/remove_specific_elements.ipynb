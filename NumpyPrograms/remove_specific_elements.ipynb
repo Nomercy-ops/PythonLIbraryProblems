{
 "cells": [
  {
   "cell_type": "markdown",
   "source": [
    "@Author: Rikesh Chhetri\n",
    "\n",
    "@Date: 2021-07-12 \n",
    "\n",
    "@Last Modified by: Rikesh Chhetri\n",
    "\n",
    "@Last Modified time: 2021-07-12 07:03:30\n",
    "\n",
    "@Title : Program to remove specific elements in a numpy array."
   ],
   "metadata": {}
  },
  {
   "cell_type": "code",
   "execution_count": 4,
   "source": [
    "from LogHandler import logger\n",
    "import numpy as np\n",
    "\n",
    "def remove_specific_item():\n",
    "    try:\n",
    "        numpyArray = np.array([10, 20, 30, 40, 50, 60, 70, 80, 90, 100])\n",
    "        index = [0,3,4]\n",
    "        logger.info(\"numpy array after deleting first, fourth and fifth elements are \")\n",
    "        new_numpyArray = np.delete(numpyArray,index)\n",
    "        logger.info(new_numpyArray)\n",
    "\n",
    "    except Exception as e:\n",
    "        logger.error(e)\n",
    "\n",
    "remove_specific_item()"
   ],
   "outputs": [],
   "metadata": {}
  }
 ],
 "metadata": {
  "orig_nbformat": 4,
  "language_info": {
   "name": "python"
  }
 },
 "nbformat": 4,
 "nbformat_minor": 2
}