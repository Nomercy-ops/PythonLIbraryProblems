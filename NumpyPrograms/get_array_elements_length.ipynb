{
 "cells": [
  {
   "cell_type": "markdown",
   "source": [
    "@Author: Rikesh Chhetri\n",
    "\n",
    "@Date: 2021-07-12 \n",
    "\n",
    "@Last Modified by: Rikesh Chhetri\n",
    "\n",
    "@Last Modified time: 2021-07-12 07:03:30\n",
    "\n",
    "@Title : Program to find the number of elements of an array, length of one array element in bytes and total bytes consumed by the elements."
   ],
   "metadata": {}
  },
  {
   "cell_type": "code",
   "execution_count": null,
   "source": [
    "from LogHandler import logger\n",
    "import numpy as np\n",
    "\n",
    "def get_array_elements_length():\n",
    "    try:\n",
    "        myArray = np.array([1,2,3],dtype = np.int64)\n",
    "        print(\"Size of the array: \",myArray.size)\n",
    "        print(\"Length of one array element in bytes : \",myArray.itemsize)\n",
    "        print(\"Total bytes consumed by the elements of the array: \",myArray.nbytes)\n",
    "\n",
    "    except Exception as e:\n",
    "        logger.error(e)\n",
    "\n",
    "get_array_elements_length()\n"
   ],
   "outputs": [],
   "metadata": {}
  }
 ],
 "metadata": {
  "orig_nbformat": 4,
  "language_info": {
   "name": "python"
  }
 },
 "nbformat": 4,
 "nbformat_minor": 2
}