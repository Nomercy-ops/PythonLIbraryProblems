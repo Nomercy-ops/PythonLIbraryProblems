{
 "cells": [
  {
   "cell_type": "markdown",
   "source": [
    "@Author: Rikesh Chhetri\n",
    "\n",
    "@Date: 2021-07-12 \n",
    "\n",
    "@Last Modified by: Rikesh Chhetri\n",
    "\n",
    "@Last Modified time: 2021-07-12 07:03:30\n",
    "\n",
    "@Title : Program to find common values between two arrays."
   ],
   "metadata": {}
  },
  {
   "cell_type": "code",
   "execution_count": null,
   "source": [
    "from LogHandler import logger\n",
    "import numpy as np\n",
    "\n",
    "def find_common_values():\n",
    "    try:\n",
    "        array1 = np.array([0,10,20,40,60],dtype = int)\n",
    "        array2 = np.array([10,30,40],dtype = int)\n",
    "        common_values = np.intersect1d(array1,array2)\n",
    "        print(\"The common values between two arrays are: \",common_values)\n",
    "    \n",
    "    except Exception as e:\n",
    "        logger.error(e)\n",
    "\n",
    "find_common_values()"
   ],
   "outputs": [],
   "metadata": {}
  },
  {
   "cell_type": "markdown",
   "source": [
    "@Author: Rikesh Chhetri\n",
    "\n",
    "@Date: 2021-07-12 \n",
    "\n",
    "@Last Modified by: Rikesh Chhetri\n",
    "\n",
    "@Last Modified time: 2021-07-12 07:03:30\n",
    "\n",
    "@Title : Program to find the set difference of two arrays. The set difference will return the sorted,   unique values in array1 that are not in array2."
   ],
   "metadata": {}
  },
  {
   "cell_type": "code",
   "execution_count": null,
   "source": [
    "from LogHandler import logger\n",
    "import numpy as np\n",
    "\n",
    "def find_set_difference():\n",
    "    try: \n",
    "        array1 = np.array([0,10,20,40,60,80])\n",
    "        array2 = np.array([10,30,40,50,70,90])\n",
    "        set_difference = np.setdiff1d(array1,array2)\n",
    "        print(\"The set difference between two arrays are: \",set_difference)\n",
    "\n",
    "    except Exception as e:\n",
    "        logger.error(e)\n",
    "\n",
    "find_set_difference()"
   ],
   "outputs": [],
   "metadata": {}
  },
  {
   "cell_type": "markdown",
   "source": [
    "@Author: Rikesh Chhetri\n",
    "\n",
    "@Date: 2021-07-12 \n",
    "\n",
    "@Last Modified by: Rikesh Chhetri\n",
    "\n",
    "@Last Modified time: 2021-07-12 07:03:30\n",
    "\n",
    "@Title : Program to find the set exclusive-or of two arrays. Set exclusive-or will return the sorted, unique values that are in only one (not both) of the input arrays."
   ],
   "metadata": {}
  },
  {
   "cell_type": "code",
   "execution_count": null,
   "source": [
    "from LogHandler import logger\n",
    "import numpy as np\n",
    "\n",
    "def find_set_exclusive_or():\n",
    "    try:\n",
    "        array1 = np.array([0,10,20,40,60,80])\n",
    "        array2 = np.array([10,30,40,50,70])\n",
    "        set_exclusive = np.setxor1d(array1,array2)\n",
    "        print(\"The set exclusive-or of two arrays are : \",set_exclusive)\n",
    "    \n",
    "    except Exception as e:\n",
    "        logger.error(e)\n",
    "\n",
    "find_set_exclusive_or()"
   ],
   "outputs": [],
   "metadata": {}
  },
  {
   "cell_type": "markdown",
   "source": [
    "@Author: Rikesh Chhetri\n",
    "\n",
    "@Date: 2021-07-12 \n",
    "\n",
    "@Last Modified by: Rikesh Chhetri\n",
    "\n",
    "@Last Modified time: 2021-07-12 07:03:30\n",
    "\n",
    "@Title : Program to compare two arrays using numpy."
   ],
   "metadata": {}
  },
  {
   "cell_type": "code",
   "execution_count": null,
   "source": [
    "from LogHandler import logger\n",
    "import numpy as np\n",
    "\n",
    "def compare_arrays():\n",
    "    try:\n",
    "        myArray1 = np.array([1,2])\n",
    "        myArray2 = np.array([4,5])\n",
    "        print(\"myarray1 is greater than myarray2\\n\",np.greater(myArray1,myArray2))\n",
    "        print(\"myarray1 is less than myarray2\\n\",np.less(myArray1,myArray2))\n",
    "        print(\"myarray1 is greater than equal to myarray2\\n\",np.greater_equal(myArray1,myArray2))\n",
    "        print(\"myarray1 is less than  equal to myarray2\\n\",np.less_equal(myArray1,myArray2))\n",
    "    \n",
    "    except Exception as e:\n",
    "        logger.error(e)\n",
    "\n",
    "compare_arrays()"
   ],
   "outputs": [],
   "metadata": {}
  }
 ],
 "metadata": {
  "orig_nbformat": 4,
  "language_info": {
   "name": "python"
  }
 },
 "nbformat": 4,
 "nbformat_minor": 2
}