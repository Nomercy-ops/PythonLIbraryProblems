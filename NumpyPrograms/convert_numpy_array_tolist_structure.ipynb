{
 "cells": [
  {
   "cell_type": "markdown",
   "source": [
    "@Author: Rikesh Chhetri\n",
    "\n",
    "@Date: 2021-07-12 \n",
    "\n",
    "@Last Modified by: Rikesh Chhetri\n",
    "\n",
    "@Last Modified time: 2021-07-12 07:03:30\n",
    "\n",
    "@Title : Program to convert a NumPy array into Python list structure."
   ],
   "metadata": {}
  },
  {
   "cell_type": "code",
   "execution_count": null,
   "source": [
    "from LogHandler import logger\n",
    "import numpy as np\n",
    "\n",
    "def convert_to_list():\n",
    "    try:\n",
    "        numpy_array = np.arange(0,6).reshape(3,2)\n",
    "        print(\"Original array elements : \\n\",numpy_array)\n",
    "        myList = np.ndarray.tolist(numpy_array)\n",
    "        print(\"The conversion numpy array to list is :\",myList)\n",
    "\n",
    "    except Exception as e:\n",
    "        logger.error(e)\n",
    "\n",
    "convert_to_list()"
   ],
   "outputs": [],
   "metadata": {}
  },
  {
   "cell_type": "markdown",
   "source": [
    "@Author: Rikesh Chhetri\n",
    "\n",
    "@Date: 2021-07-12 \n",
    "\n",
    "@Last Modified by: Rikesh Chhetri\n",
    "\n",
    "@Last Modified time: 2021-07-12 07:03:30\n",
    "\n",
    "@Title : Program to rogram to convert a NumPy array into Python list structure.\n",
    "\n",
    "Expected Output:\n",
    "\n",
    "Original array elements:\n",
    "\n",
    "[ 0.26153123 0.52760141 0.5718299 0.5927067 0.7831874 0.69746349\n",
    "0.35399976 0.99469633 0.0694458 0.54711478]\n",
    "\n",
    "Print array values with precision 3:\n",
    "\n",
    "[ 0.262 0.528 0.572 0.593 0.783 0.697 0.354 0.995 0.069 0.547]"
   ],
   "metadata": {}
  },
  {
   "cell_type": "code",
   "execution_count": null,
   "source": [
    "from LogHandler import logger\n",
    "import numpy as np\n",
    "\n",
    "def numpy_toList():\n",
    "    try:\n",
    "        numpy_arrays = np.array([ 0.26153123, 0.52760141, 0.5718299, 0.5927067, 0.7831874, 0.69746349,0.35399976, 0.99469633, 0.0694458, 0.54711478]) \n",
    "        logger.info(\"Original array elements : \")\n",
    "        logger.info(numpy_arrays)\n",
    "        np.set_printoptions(precision = 3)\n",
    "        print(\"array values with precision 3 : \\n\",numpy_arrays)\n",
    "\n",
    "    except Exception as e:\n",
    "        logger.error(e)\n",
    "\n",
    "numpy_toList()"
   ],
   "outputs": [],
   "metadata": {}
  }
 ],
 "metadata": {
  "orig_nbformat": 4,
  "language_info": {
   "name": "python"
  }
 },
 "nbformat": 4,
 "nbformat_minor": 2
}