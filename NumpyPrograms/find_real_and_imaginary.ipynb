{
 "cells": [
  {
   "cell_type": "markdown",
   "source": [
    "@Author: Rikesh Chhetri\n",
    "\n",
    "@Date: 2021-07-12 \n",
    "\n",
    "@Last Modified by: Rikesh Chhetri\n",
    "\n",
    "@Last Modified time: 2021-07-12 07:03:30\n",
    "\n",
    "@Title : Program to find the real and imaginary parts of an array of complex numbers."
   ],
   "metadata": {}
  },
  {
   "cell_type": "code",
   "execution_count": null,
   "source": [
    "from LogHandler import logger\n",
    "import numpy as np\n",
    "\n",
    "def find_real_and_imaginary():\n",
    "    try:\n",
    "        x = np.sqrt([1+0j])\n",
    "        y = np.sqrt([0+1j])\n",
    "        logger.info(\"The real part of x is : \")\n",
    "        logger.info(x.real)\n",
    "        logger.info(\"The real part of y is : \")\n",
    "        logger.info(y.real)\n",
    "  \n",
    "        logger.info(\"The imaginary part of x is : \")\n",
    "        logger.info(x.imag)\n",
    "        logger.info(\"The imaginary part of y is : \")\n",
    "        logger.info(y.imag)\n",
    "\n",
    "    except Exception as e:\n",
    "        logger.error(e)\n",
    "\n",
    "find_real_and_imaginary()\n"
   ],
   "outputs": [],
   "metadata": {}
  }
 ],
 "metadata": {
  "orig_nbformat": 4,
  "language_info": {
   "name": "python"
  }
 },
 "nbformat": 4,
 "nbformat_minor": 2
}