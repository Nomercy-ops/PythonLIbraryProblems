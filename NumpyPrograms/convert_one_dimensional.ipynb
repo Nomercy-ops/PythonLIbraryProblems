{
 "cells": [
  {
   "cell_type": "markdown",
   "source": [
    "@Author: Rikesh Chhetri\n",
    "\n",
    "@Date: 2021-07-12 \n",
    "\n",
    "@Last Modified by: Rikesh Chhetri\n",
    "\n",
    "@Last Modified time: 2021-07-12 07:03:30\n",
    "\n",
    "@Title : Program to convert a list of numeric value into a one-dimensional NumPy array."
   ],
   "metadata": {}
  },
  {
   "cell_type": "code",
   "execution_count": null,
   "source": [
    "from LogHandler import logger\n",
    "import numpy as np\n",
    "\n",
    "def convert_one_dimensional():\n",
    "    try:\n",
    "        myList = [12.23, 13.32, 100, 36.32]\n",
    "        print(\"Original list: \",myList)\n",
    "        newList = np.array(myList)\n",
    "        print(\"One Dimensional numpy array is: \",newList)\n",
    "    except Exception as e:\n",
    "        logger.error(e)\n",
    "\n",
    "\n",
    "convert_one_dimensional()\n"
   ],
   "outputs": [],
   "metadata": {}
  }
 ],
 "metadata": {
  "orig_nbformat": 4,
  "language_info": {
   "name": "python"
  }
 },
 "nbformat": 4,
 "nbformat_minor": 2
}