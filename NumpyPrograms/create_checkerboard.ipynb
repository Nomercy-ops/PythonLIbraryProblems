{
 "cells": [
  {
   "cell_type": "markdown",
   "source": [
    "@Author: Rikesh Chhetri\n",
    "\n",
    "@Date: 2021-07-12 \n",
    "\n",
    "@Last Modified by: Rikesh Chhetri\n",
    "\n",
    "@Last Modified time: 2021-07-12 07:03:30\n",
    "\n",
    "@Title : Program to create a 8x8 matrix and fill it with a checkerboard pattern."
   ],
   "metadata": {}
  },
  {
   "cell_type": "code",
   "execution_count": null,
   "source": [
    "from LogHandler import logger\n",
    "import numpy as np\n",
    "\n",
    "def create_checkerBoard():\n",
    "    try:\n",
    "        my_matrix = np.zeros((8,8),dtype = int)\n",
    "        logger.info(\"8x8 matrix with checker board pattern are: \")\n",
    "        my_matrix[1::2,::2] = 1\n",
    "        my_matrix[::2,1::2] = 1\n",
    "        logger.info(my_matrix)\n",
    "\n",
    "    except Exception as e:\n",
    "        logger.error(e)\n",
    "\n",
    "\n",
    "create_checkerBoard()"
   ],
   "outputs": [],
   "metadata": {}
  }
 ],
 "metadata": {
  "orig_nbformat": 4,
  "language_info": {
   "name": "python"
  }
 },
 "nbformat": 4,
 "nbformat_minor": 2
}