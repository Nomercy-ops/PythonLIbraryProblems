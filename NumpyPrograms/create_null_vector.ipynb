{
 "cells": [
  {
   "cell_type": "markdown",
   "source": [
    "@Author: Rikesh Chhetri\n",
    "\n",
    "@Date: 2021-07-12 \n",
    "\n",
    "@Last Modified by: Rikesh Chhetri\n",
    "\n",
    "@Last Modified time: 2021-07-12 07:03:30\n",
    "\n",
    "@Title :  program to create a null vector of size 10 and update sixth value to 11."
   ],
   "metadata": {}
  },
  {
   "cell_type": "code",
   "execution_count": null,
   "source": [
    "from LogHandler import logger\n",
    "import numpy as np\n",
    "\n",
    "def create_null_vector():\n",
    "    try:\n",
    "        myVector = np.zeros(10)\n",
    "        print(\"Original vector is : \",myVector)\n",
    "        print('After updating sixth value')\n",
    "        myVector[6] = 11\n",
    "        logger.info(myVector)\n",
    "    except Exception as e:\n",
    "        logger.error(e)\n",
    "\n",
    "create_null_vector()\n"
   ],
   "outputs": [],
   "metadata": {}
  }
 ],
 "metadata": {
  "orig_nbformat": 4,
  "language_info": {
   "name": "python"
  }
 },
 "nbformat": 4,
 "nbformat_minor": 2
}