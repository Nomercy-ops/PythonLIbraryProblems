{
 "cells": [
  {
   "cell_type": "markdown",
   "source": [
    "@Author: Rikesh Chhetri\n",
    "\n",
    "@Date: 2021-07-12 \n",
    "\n",
    "@Last Modified by: Rikesh Chhetri\n",
    "\n",
    "@Last Modified time: 2021-07-12 07:03:30\n",
    "\n",
    "@Title : Program to create an array which looks like below array.\n",
    "\n",
    "Expected Output:\n",
    "\n",
    "[[ 0. 0. 0.]\n",
    "\n",
    "[ 1. 0. 0.]\n",
    "\n",
    "[ 1. 1. 0.]\n",
    "\n",
    "[ 1. 1. 1.]]"
   ],
   "metadata": {}
  },
  {
   "cell_type": "code",
   "execution_count": null,
   "source": [
    "from LogHandler import logger\n",
    "import numpy as np\n",
    "\n",
    "def create_array():\n",
    "    try:\n",
    "        myArray = np.ones((4,3))\n",
    "        myArray[:1,::1] = 0\n",
    "        myArray[:2, 1:] = 0\n",
    "        myArray[:3, 2:] = 0\n",
    "        logger.info(myArray)\n",
    "\n",
    "    except Exception as e:\n",
    "        logger.error(e)\n",
    "\n",
    "create_array()"
   ],
   "outputs": [],
   "metadata": {}
  },
  {
   "cell_type": "markdown",
   "source": [
    "@Author: Rikesh Chhetri\n",
    "\n",
    "@Date: 2021-07-12 \n",
    "\n",
    "@Last Modified by: Rikesh Chhetri\n",
    "\n",
    "@Last Modified time: 2021-07-12 07:03:30\n",
    "\n",
    "@Title : Program to concatenate two 2-dimensional arrays.\n",
    "\n"
   ],
   "metadata": {}
  },
  {
   "cell_type": "code",
   "execution_count": null,
   "source": [
    "from LogHandler import logger\n",
    "import numpy as np\n",
    "\n",
    "def concatenate_2darray():\n",
    "    try:\n",
    "        array1 = np.array([[0, 1, 3], [5, 7, 9]])\n",
    "        array2 = np.array([[0, 2, 4], [6, 8, 10]])\n",
    "        array3 = np.concatenate((array1,array2),1)\n",
    "        logger.info(array3)\n",
    "\n",
    "    except Exception as e:\n",
    "        logger.error(e)\n",
    "\n",
    "concatenate_2darray()\n"
   ],
   "outputs": [],
   "metadata": {}
  },
  {
   "cell_type": "markdown",
   "source": [
    "@Author: Rikesh Chhetri\n",
    "\n",
    "@Date: 2021-07-12 \n",
    "\n",
    "@Last Modified by: Rikesh Chhetri\n",
    "\n",
    "@Last Modified time: 2021-07-12 07:03:30\n",
    "\n",
    "@Title : Programto to create an array of (3, 4) shape, multiply every element\n",
    "value by 3 and display the new array.\n",
    "\n"
   ],
   "metadata": {}
  },
  {
   "cell_type": "code",
   "execution_count": null,
   "source": [
    "from LogHandler import logger\n",
    "import numpy as np\n",
    "\n",
    "def display_new_array():\n",
    "    try:\n",
    "        array1 = np.arange(0,12).reshape(3,4)\n",
    "        new_array = array1 * 3\n",
    "        print(\"New array after multiplication are: \\n \", new_array)\n",
    "\n",
    "    except Exception as e:\n",
    "        logger.error(e)\n",
    "\n",
    "display_new_array()"
   ],
   "outputs": [],
   "metadata": {}
  }
 ],
 "metadata": {
  "orig_nbformat": 4,
  "language_info": {
   "name": "python"
  }
 },
 "nbformat": 4,
 "nbformat_minor": 2
}