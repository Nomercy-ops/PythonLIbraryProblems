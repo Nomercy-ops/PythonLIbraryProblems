{
 "cells": [
  {
   "cell_type": "markdown",
   "source": [
    "@Author: Rikesh Chhetri\n",
    "\n",
    "@Date: 2021-07-12 \n",
    "\n",
    "@Last Modified by: Rikesh Chhetri\n",
    "\n",
    "@Last Modified time: 2021-07-12 07:03:30\n",
    "\n",
    "@Title : Program to save a NumPy array to a text file."
   ],
   "metadata": {}
  },
  {
   "cell_type": "code",
   "execution_count": null,
   "source": [
    "from LogHandler import logger\n",
    "import numpy as np\n",
    "\n",
    "def save_array_to_text():\n",
    "    try:\n",
    "        myArray = np.array([[1, 2, 3], [4, 5, 6], [7, 8, 9]])\n",
    "        print('Array:\\n', myArray)\n",
    "        file = open(\"file1.txt\", \"w+\")\n",
    "        content = str(myArray)\n",
    "        file.write(content)\n",
    "        file.close()\n",
    "        \n",
    "    except FileNotFoundError as e:\n",
    "        print(\"File not found in the directory.\",e)\n",
    "    \n",
    "    except Exception as e:\n",
    "        logger.error(e)\n",
    "\n",
    "save_array_to_text()"
   ],
   "outputs": [],
   "metadata": {}
  }
 ],
 "metadata": {
  "orig_nbformat": 4,
  "language_info": {
   "name": "python"
  }
 },
 "nbformat": 4,
 "nbformat_minor": 2
}