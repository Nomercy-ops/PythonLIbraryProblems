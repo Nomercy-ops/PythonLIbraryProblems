{
 "cells": [
  {
   "cell_type": "markdown",
   "source": [
    "@Author: Rikesh Chhetri\n",
    "\n",
    "@Date: 2021-07-12 \n",
    "\n",
    "@Last Modified by: Rikesh Chhetri\n",
    "\n",
    "@Last Modified time: 2021-07-12 07:03:30\n",
    "\n",
    "@Title :  Create a 3x3 matrix with values ranging from 2 to 10."
   ],
   "metadata": {}
  },
  {
   "cell_type": "code",
   "execution_count": null,
   "source": [
    "from LogHandler import logger\n",
    "import numpy as np\n",
    "\n",
    "def create_matrix():\n",
    "    try:\n",
    "        myMatrix = np.arange(2,11).reshape(3,3)\n",
    "        print(\"The 3x3 matrix array :\\n \",myMatrix)\n",
    "    \n",
    "    except Exception as e:\n",
    "        logger.error(e)\n",
    "\n",
    "create_matrix()"
   ],
   "outputs": [],
   "metadata": {}
  }
 ],
 "metadata": {
  "orig_nbformat": 4,
  "language_info": {
   "name": "python"
  }
 },
 "nbformat": 4,
 "nbformat_minor": 2
}