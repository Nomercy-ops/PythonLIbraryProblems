{
 "cells": [
  {
   "cell_type": "markdown",
   "source": [
    "Write a Python program to create a contiguous flattened array."
   ],
   "metadata": {}
  },
  {
   "cell_type": "code",
   "execution_count": null,
   "source": [
    "import numpy as np \n",
    "\n",
    "def create_flattened_array(array1):\n",
    "    flat_array = np.ravel(array1)\n",
    "    print(\"The Flattened Array is: \",flat_array)\n",
    "\n",
    "array1 = np.array([[10,20,30],[20,40,50]])\n",
    "create_flattened_array(array1)\n",
    "\n"
   ],
   "outputs": [],
   "metadata": {}
  },
  {
   "cell_type": "markdown",
   "source": [
    "Write a Python program to change the data type of an array."
   ],
   "metadata": {}
  },
  {
   "cell_type": "code",
   "execution_count": null,
   "source": [
    "\n",
    "def change_data_type(array1):\n",
    "    array2 = array1.astype(float)\n",
    "    print(\"The Flattened Array is:\\n \",array2)\n",
    "\n",
    "array1 = np.array([[10,20,30],[20,40,50]],dtype = int )\n",
    "print('Array before changing data type:\\n ',array1)\n",
    "change_data_type(array1)\n"
   ],
   "outputs": [],
   "metadata": {}
  },
  {
   "cell_type": "markdown",
   "source": [
    "Write a Python program to create a 3-D array with ones on a diagonal and zeros elsewhere."
   ],
   "metadata": {}
  },
  {
   "cell_type": "code",
   "execution_count": null,
   "source": [
    "def create3d_array():\n",
    "    myArray = np.eye(3)\n",
    "    print(myArray)\n",
    "\n",
    "create3d_array()\n"
   ],
   "outputs": [],
   "metadata": {}
  },
  {
   "cell_type": "markdown",
   "source": [
    "Write a Python program to create an array which looks like below array."
   ],
   "metadata": {}
  },
  {
   "cell_type": "code",
   "execution_count": null,
   "source": [
    "def create_array():\n",
    "    myArray = np.ones((4,3))\n",
    "    myArray[:1,::1] = 0\n",
    "    myArray[:2, 1:] = 0\n",
    "    myArray[:3, 2:] = 0\n",
    "    print(myArray)\n",
    "\n",
    "create_array()"
   ],
   "outputs": [],
   "metadata": {}
  },
  {
   "cell_type": "markdown",
   "source": [
    "Write a Python program to concatenate two 2-dimensional arrays."
   ],
   "metadata": {}
  },
  {
   "cell_type": "code",
   "execution_count": 32,
   "source": [
    "def concatenate_2darray(array1,array2):\n",
    "    array3 = np.concatenate((array1,array2),1)\n",
    "    print(array3)\n",
    "\n",
    "array1 = np.array([[0, 1, 3], [5, 7, 9]])\n",
    "array2 = np.array([[0, 2, 4], [6, 8, 10]])\n",
    "concatenate_2darray(array1,array2)"
   ],
   "outputs": [
    {
     "output_type": "stream",
     "name": "stdout",
     "text": [
      "<class 'numpy.ndarray'>\n",
      "[[ 0  1  3  0  2  4]\n",
      " [ 5  7  9  6  8 10]]\n"
     ]
    }
   ],
   "metadata": {}
  }
 ],
 "metadata": {
  "orig_nbformat": 4,
  "language_info": {
   "name": "python"
  }
 },
 "nbformat": 4,
 "nbformat_minor": 2
}