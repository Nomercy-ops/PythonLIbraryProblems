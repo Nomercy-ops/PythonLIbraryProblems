{
 "cells": [
  {
   "cell_type": "markdown",
   "source": [
    "@Author: Rikesh Chhetri\n",
    "\n",
    "@Date: 2021-07-12 \n",
    "\n",
    "@Last Modified by: Rikesh Chhetri\n",
    "\n",
    "@Last Modified time: 2021-07-12 07:03:30\n",
    "\n",
    "@Title : Program to create a contiguous flattened array."
   ],
   "metadata": {}
  },
  {
   "cell_type": "code",
   "execution_count": null,
   "source": [
    "from LogHandler import logger\n",
    "import numpy as np\n",
    "\n",
    "def create_flattened_array():\n",
    "    try:\n",
    "        array1 = np.array([[10,20,30],[20,40,50]])\n",
    "        flat_array = np.ravel(array1)\n",
    "        print(\"The Flattened Array is: \",flat_array)\n",
    "\n",
    "    except Exception as e:\n",
    "        logger.error(e)\n",
    "        \n",
    "create_flattened_array()"
   ],
   "outputs": [],
   "metadata": {}
  }
 ],
 "metadata": {
  "orig_nbformat": 4,
  "language_info": {
   "name": "python"
  }
 },
 "nbformat": 4,
 "nbformat_minor": 2
}