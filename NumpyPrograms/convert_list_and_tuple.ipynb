{
 "cells": [
  {
   "cell_type": "markdown",
   "source": [
    "@Author: Rikesh Chhetri\n",
    "\n",
    "@Date: 2021-07-12 \n",
    "\n",
    "@Last Modified by: Rikesh Chhetri\n",
    "\n",
    "@Last Modified time: 2021-07-12 07:03:30\n",
    "\n",
    "@Title : Program to convert a list and tuple into arrays."
   ],
   "metadata": {}
  },
  {
   "cell_type": "code",
   "execution_count": null,
   "source": [
    "from LogHandler import logger\n",
    "import numpy as np\n",
    "\n",
    "def convert_to_array():\n",
    "    try:\n",
    "        myList = [1, 2, 3, 4, 5, 6, 7, 8]\n",
    "        myTuple = ([8, 4, 6], [1, 2, 3])\n",
    "        print(\"list to array is : \", np.array(myList))\n",
    "        print(\"tuple to array is :\\n \", np.asarray(myTuple))\n",
    "\n",
    "    except Exception as e:\n",
    "        logger.error(e)\n",
    "\n",
    "convert_to_array()"
   ],
   "outputs": [],
   "metadata": {}
  }
 ],
 "metadata": {
  "orig_nbformat": 4,
  "language_info": {
   "name": "python"
  }
 },
 "nbformat": 4,
 "nbformat_minor": 2
}