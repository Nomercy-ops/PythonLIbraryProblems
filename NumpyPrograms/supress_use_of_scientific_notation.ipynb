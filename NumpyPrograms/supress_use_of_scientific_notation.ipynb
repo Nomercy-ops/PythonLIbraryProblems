{
 "cells": [
  {
   "cell_type": "markdown",
   "source": [
    "@Author: Rikesh Chhetri\n",
    "\n",
    "@Date: 2021-07-12 \n",
    "\n",
    "@Last Modified by: Rikesh Chhetri\n",
    "\n",
    "@Last Modified time: 2021-07-12 07:03:30\n",
    "\n",
    "@Title : Program to suppresses the use of scientific notation for small\n",
    "numbers in numpy array."
   ],
   "metadata": {}
  },
  {
   "cell_type": "code",
   "execution_count": null,
   "source": [
    "from LogHandler import logger\n",
    "import numpy as np\n",
    "\n",
    "def supress_scientific_notation():\n",
    "    try:\n",
    "        numpy_arrays = np.array([ 1.60000000e-10 ,1.60000000e+00 ,1.20000000e+03 ,2.35000000e-01])\n",
    "        logger.info(\"Original array elements : \")\n",
    "        logger.info(numpy_arrays)\n",
    "        np.set_printoptions(precision = 3,suppress = True)\n",
    "        print(\"array values with precision 3 : \",numpy_arrays)\n",
    "\n",
    "    except Exception as e:\n",
    "        logger.error(e)\n",
    "\n",
    "supress_scientific_notation()\n"
   ],
   "outputs": [],
   "metadata": {}
  }
 ],
 "metadata": {
  "orig_nbformat": 4,
  "language_info": {
   "name": "python"
  }
 },
 "nbformat": 4,
 "nbformat_minor": 2
}