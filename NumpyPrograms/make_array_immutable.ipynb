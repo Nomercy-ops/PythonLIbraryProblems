{
 "cells": [
  {
   "cell_type": "markdown",
   "source": [
    "@Author: Rikesh Chhetri\n",
    "\n",
    "@Date: 2021-07-12 \n",
    "\n",
    "@Last Modified by: Rikesh Chhetri\n",
    "\n",
    "@Last Modified time: 2021-07-12 07:03:30\n",
    "\n",
    "@Title : Program to make an array immutable (read-only)."
   ],
   "metadata": {}
  },
  {
   "cell_type": "code",
   "execution_count": 1,
   "source": [
    "from LogHandler import logger\n",
    "import numpy as np\n",
    "\n",
    "def immutable_array():\n",
    "    try:\n",
    "        myArray = np.ones(8)\n",
    "        # making my array read only\n",
    "        myArray.flags.writeable = False\n",
    "        logger.info(\"Try to change the value of the first element:\")\n",
    "        myArray[0] = 0\n",
    "    \n",
    "    except Exception as e:\n",
    "        logger.error(e)\n",
    "\n",
    "immutable_array()\n"
   ],
   "outputs": [],
   "metadata": {}
  }
 ],
 "metadata": {
  "orig_nbformat": 4,
  "language_info": {
   "name": "python"
  }
 },
 "nbformat": 4,
 "nbformat_minor": 2
}