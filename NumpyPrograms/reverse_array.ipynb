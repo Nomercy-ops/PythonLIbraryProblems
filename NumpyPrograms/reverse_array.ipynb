{
 "cells": [
  {
   "cell_type": "markdown",
   "source": [
    "@Author: Rikesh Chhetri\n",
    "\n",
    "@Date: 2021-07-12 \n",
    "\n",
    "@Last Modified by: Rikesh Chhetri\n",
    "\n",
    "@Last Modified time: 2021-07-12 07:03:30\n",
    "\n",
    "@Title :  program to reverse an array (first element becomes last)."
   ],
   "metadata": {}
  },
  {
   "cell_type": "code",
   "execution_count": null,
   "source": [
    "import numpy as np\n",
    "from LogHandler import logger\n",
    "\n",
    "def reverse_array():\n",
    "    try:\n",
    "        myArray = np.arange(12,38)\n",
    "        print(\"original array:\", myArray)\n",
    "        logger.info(\"Reverse array:\")\n",
    "        logger.info(myArray[::-1])\n",
    "    \n",
    "    except Exception as e:\n",
    "        logger.error(e)\n",
    "\n",
    "reverse_array()"
   ],
   "outputs": [],
   "metadata": {}
  }
 ],
 "metadata": {
  "orig_nbformat": 4,
  "language_info": {
   "name": "python"
  }
 },
 "nbformat": 4,
 "nbformat_minor": 2
}