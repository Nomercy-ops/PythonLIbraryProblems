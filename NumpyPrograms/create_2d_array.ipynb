{
 "cells": [
  {
   "cell_type": "markdown",
   "source": [
    "@Author: Rikesh Chhetri\n",
    "\n",
    "@Date: 2021-07-12 \n",
    "\n",
    "@Last Modified by: Rikesh Chhetri\n",
    "\n",
    "@Last Modified time: 2021-07-12 07:03:30\n",
    "\n",
    "@Title : Program to create a 2d array with 1 on the border and 0 inside."
   ],
   "metadata": {}
  },
  {
   "cell_type": "code",
   "execution_count": null,
   "source": [
    "from LogHandler import logger\n",
    "import numpy as np\n",
    "\n",
    "def create_2d_array():\n",
    "    try:\n",
    "        my_2d_array = np.ones((5,5))\n",
    "        print(\"2D array with 1s\\n\", my_2d_array)\n",
    "        logger.info(\"2D array with zeros inside: \")\n",
    "        my_2d_array[1:-1,1:-1] = 0\n",
    "        logger.info(my_2d_array)\n",
    "\n",
    "    except Exception as e:\n",
    "        logger.error(e)\n",
    "  \n",
    "create_2d_array()"
   ],
   "outputs": [],
   "metadata": {}
  },
  {
   "cell_type": "markdown",
   "source": [
    "Write a Python program to add a border (filled with 0's) around an existing array."
   ],
   "metadata": {}
  },
  {
   "cell_type": "code",
   "execution_count": null,
   "source": [
    "from LogHandler import logger\n",
    "import numpy as np\n",
    "\n",
    "def create_array_with_zero_border():\n",
    "    try:\n",
    "        myArray = np.zeros((5,5))\n",
    "        print(\"2D array with zeros\\n\", myArray)\n",
    "        logger.info(\"2D array with ones inside: \")\n",
    "        myArray[1:-1,1:-1] = 1\n",
    "        logger.info(myArray)\n",
    "    \n",
    "    except Exception as e:\n",
    "        logger.error(e)\n",
    "  \n",
    "create_array_with_zero_border()"
   ],
   "outputs": [],
   "metadata": {}
  }
 ],
 "metadata": {
  "orig_nbformat": 4,
  "language_info": {
   "name": "python"
  }
 },
 "nbformat": 4,
 "nbformat_minor": 2
}