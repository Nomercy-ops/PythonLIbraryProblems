{
 "cells": [
  {
   "cell_type": "markdown",
   "source": [
    "1. Write a Python program to convert a list of numeric value into a one-dimensional NumPy array."
   ],
   "metadata": {}
  },
  {
   "cell_type": "code",
   "execution_count": null,
   "source": [
    "import numpy as np\n",
    "def convert_one_dimensional(myList):\n",
    "    newList = np.array(myList)\n",
    "    print(\"One Dimensional numpy array is: \",newList)\n",
    "\n",
    "myList = [12.23, 13.32, 100, 36.32]\n",
    "print(\"Original list: \",myList)\n",
    "convert_one_dimensional(myList) "
   ],
   "outputs": [],
   "metadata": {}
  },
  {
   "cell_type": "markdown",
   "source": [
    "2. Create a 3x3 matrix with values ranging from 2 to 10."
   ],
   "metadata": {}
  },
  {
   "cell_type": "code",
   "execution_count": null,
   "source": [
    "import numpy as np\n",
    "def create_matrix():\n",
    "    myMatrix = np.arange(2,11).reshape(3,3)\n",
    "    print(\"The 3x3 matrix array :\\n \",myMatrix)\n",
    "\n",
    "create_matrix()\n"
   ],
   "outputs": [],
   "metadata": {}
  },
  {
   "cell_type": "markdown",
   "source": [
    "3. Write a Python program to create a null vector of size 10 and update sixth value to 11."
   ],
   "metadata": {}
  },
  {
   "cell_type": "code",
   "execution_count": null,
   "source": [
    "import numpy as np\n",
    "def create_null_vector():\n",
    "    myVector = np.zeros(10)\n",
    "    print(\"Original vector is : \",myVector)\n",
    "    print('After updating sixth value')\n",
    "    myVector[6] = 11\n",
    "    print(myVector)\n",
    "\n",
    "create_null_vector()\n"
   ],
   "outputs": [],
   "metadata": {}
  },
  {
   "cell_type": "markdown",
   "source": [
    "4. Write a Python program to reverse an array (first element becomes last)."
   ],
   "metadata": {}
  },
  {
   "cell_type": "code",
   "execution_count": null,
   "source": [
    "import numpy as np\n",
    "def reverse_array(myArray):\n",
    "    print(\"original array:\", myArray)\n",
    "    print(\"Reverse array:\")\n",
    "    print(myArray[::-1])\n",
    "\n",
    "myArray = np.arange(12,38)\n",
    "reverse_array(myArray)"
   ],
   "outputs": [],
   "metadata": {}
  },
  {
   "cell_type": "markdown",
   "source": [
    "5. Write a Python program to create a 2d array with 1 on the border and 0 inside."
   ],
   "metadata": {}
  },
  {
   "cell_type": "code",
   "execution_count": null,
   "source": [
    "import numpy as np\n",
    "def create_2d_array(twod_array):\n",
    "    print(\"2D array with 1s\\n\", twod_array)\n",
    "    print(\"2D array with zeros inside: \")\n",
    "    twod_array[1:-1,1:-1] = 0\n",
    "    print(twod_array)\n",
    "  \n",
    "my_2d_array = np.ones((5,5))\n",
    "create_2d_array(my_2d_array)"
   ],
   "outputs": [],
   "metadata": {}
  },
  {
   "cell_type": "markdown",
   "source": [
    "6. Write a Python program to add a border (filled with 0's) around an existing array."
   ],
   "metadata": {}
  },
  {
   "cell_type": "code",
   "execution_count": null,
   "source": [
    "import numpy as np\n",
    "def create_array_with_zero_border(myArray):\n",
    "    print(\"2D array with zeros\\n\", myArray)\n",
    "    print(\"2D array with ones inside: \")\n",
    "    myArray[1:-1,1:-1] = 1\n",
    "    print(myArray)\n",
    "  \n",
    "my_array = np.zeros((8,8))\n",
    "create_array_with_zero_border(my_array)"
   ],
   "outputs": [],
   "metadata": {}
  },
  {
   "cell_type": "markdown",
   "source": [
    "7. Write a Python program to create a 8x8 matrix and fill it with a checkerboard pattern."
   ],
   "metadata": {}
  },
  {
   "cell_type": "code",
   "execution_count": null,
   "source": [
    "import numpy as np\n",
    "def create_checkerBoard(my_matrix):\n",
    "    print(\"8x8 matrix with checker board pattern are: \")\n",
    "    my_matrix[1::2,::2] = 1\n",
    "    my_matrix[::2,1::2] = 1\n",
    "    print(my_matrix)\n",
    "\n",
    "my_matrix = np.zeros((8,8),dtype = int)\n",
    "create_checkerBoard(my_matrix)"
   ],
   "outputs": [],
   "metadata": {}
  },
  {
   "cell_type": "markdown",
   "source": [
    "8. Write a Python program to convert a list and tuple into arrays."
   ],
   "metadata": {}
  },
  {
   "cell_type": "code",
   "execution_count": null,
   "source": [
    "def convert_to_array(myList,myTuple):\n",
    "    print(\"list to array is : \", np.array(myList))\n",
    "    print(\"tuple to array is :\\n \", np.asarray(myTuple))\n",
    "\n",
    "myList = [1, 2, 3, 4, 5, 6, 7, 8]\n",
    "myTuple = ([8, 4, 6], [1, 2, 3])\n",
    "convert_to_array(myList,myTuple)"
   ],
   "outputs": [],
   "metadata": {}
  },
  {
   "cell_type": "markdown",
   "source": [
    "9. Write a Python program to append values to the end of an array."
   ],
   "metadata": {}
  },
  {
   "cell_type": "code",
   "execution_count": null,
   "source": [
    "def append_array(array1,array2):\n",
    "    array1 = np.append(array1,array2)\n",
    "    print(\"Array after appending are : \",array1)\n",
    "\n",
    "array1 = [10,20,30]\n",
    "print(\"Array before Appending\",array1)\n",
    "array2 = [[40,50,60],[70,80,90]]\n",
    "append_array(array1,array2)\n"
   ],
   "outputs": [],
   "metadata": {}
  },
  {
   "cell_type": "markdown",
   "source": [
    "10. Write a Python program to find the real and imaginary parts of an array of complex numbers."
   ],
   "metadata": {}
  },
  {
   "cell_type": "code",
   "execution_count": null,
   "source": [
    "def find_real_and_imaginary(x,y):\n",
    "    \n",
    "    print (\"The real part of x is : \")\n",
    "    print (x.real)\n",
    "    print (\"The real part of y is : \")\n",
    "    print (y.real)\n",
    "  \n",
    "    print (\"The imaginary part of x is : \")\n",
    "    print (x.imag)\n",
    "    print (\"The imaginary part of y is : \")\n",
    "    print (y.imag)\n",
    "\n",
    "x = np.sqrt([1+0j])\n",
    "y = np.sqrt([0+1j])\n",
    "find_real_and_imaginary(x,y)\n"
   ],
   "outputs": [],
   "metadata": {}
  },
  {
   "cell_type": "markdown",
   "source": [
    "11. Write a Python program to find the number of elements of an array, length of one\n",
    "    array element in bytes and total bytes consumed by the elements."
   ],
   "metadata": {}
  },
  {
   "cell_type": "code",
   "execution_count": null,
   "source": [
    "import numpy as np\n",
    "def get_array_elements_length(myArray):\n",
    "    print(\"Size of the array: \",myArray.size)\n",
    "    print(\"Length of one array element in bytes : \",myArray.itemsize)\n",
    "    print(\"Total bytes consumed by the elements of the array: \",myArray.nbytes)\n",
    "\n",
    "myArrays = np.array([1,2,3],dtype = np.int64)\n",
    "get_array_elements_length(myArrays)\n"
   ],
   "outputs": [],
   "metadata": {}
  },
  {
   "cell_type": "markdown",
   "source": [
    "12. Write a Python program to find common values between two arrays."
   ],
   "metadata": {}
  },
  {
   "cell_type": "code",
   "execution_count": null,
   "source": [
    "def find_common_values(array1,array2):\n",
    "    common_values = np.intersect1d(array1,array2)\n",
    "    print(\"The common values between two arrays are: \",common_values)\n",
    "\n",
    "array1 = np.array([0,10,20,40,60],dtype = int)\n",
    "array2 = np.array([10,30,40],dtype = int)\n",
    "find_common_values(array1,array2)"
   ],
   "outputs": [],
   "metadata": {}
  },
  {
   "cell_type": "markdown",
   "source": [
    "13. Write a Python program to find the set difference of two arrays.\n",
    "    The set difference will return the sorted, unique values in array1 that are not in array2."
   ],
   "metadata": {}
  },
  {
   "cell_type": "code",
   "execution_count": null,
   "source": [
    "def find_set_difference(array1,array2):\n",
    "    set_difference = np.setdiff1d(array1,array2)\n",
    "    print(\"The set difference between two arrays are: \",set_difference)\n",
    "    \n",
    "array1 = np.array([0,10,20,40,60,80])\n",
    "array2 = np.array([10,30,40,50,70,90])\n",
    "find_set_difference(array1,array2)"
   ],
   "outputs": [],
   "metadata": {}
  },
  {
   "cell_type": "markdown",
   "source": [
    "14. Write a Python program to find the set exclusive-or of two arrays. Set exclusive-or\n",
    "    will return the sorted, unique values that are in only one (not both) of the input arrays."
   ],
   "metadata": {}
  },
  {
   "cell_type": "code",
   "execution_count": null,
   "source": [
    "def find_set_exclusive_or(array1,array2):\n",
    "    set_difference = np.setxor1d(array1,array2)\n",
    "    print(\"The set exclusive-or of two arrays are : \",set_difference)\n",
    "    \n",
    "array1 = np.array([0,10,20,40,60,80])\n",
    "array2 = np.array([10,30,40,50,70])\n",
    "find_set_exclusive_or(array1,array2)"
   ],
   "outputs": [],
   "metadata": {}
  },
  {
   "cell_type": "markdown",
   "source": [
    "15. Write a Python program compare two arrays using numpy."
   ],
   "metadata": {}
  },
  {
   "cell_type": "code",
   "execution_count": null,
   "source": [
    "def compare_arrays(myArray1,myArray2):\n",
    "    print(\"myarray1 is greater than myarray2\\n\",np.greater(myArray1,myArray2))\n",
    "    print(\"myarray1 is less than myarray2\\n\",np.less(myArray1,myArray2))\n",
    "    print(\"myarray1 is greater than equal to myarray2\\n\",np.greater_equal(myArray1,myArray2))\n",
    "    print(\"myarray1 is less than  equal to myarray2\\n\",np.less_equal(myArray1,myArray2))\n",
    "\n",
    "myArray1 = np.array([1,2])\n",
    "myArray2 = np.array([4,5])\n",
    "compare_arrays(myArray1,myArray2)"
   ],
   "outputs": [],
   "metadata": {}
  },
  {
   "cell_type": "markdown",
   "source": [
    "15. Write a Python program to save a NumPy array to a text file."
   ],
   "metadata": {}
  },
  {
   "cell_type": "code",
   "execution_count": null,
   "source": [
    "def save_array_to_text(myArray):\n",
    "    print('Array:\\n', myArray)\n",
    "    try:\n",
    "        file = open(\"file1.txt\", \"w+\")\n",
    "        content = str(myArray)\n",
    "        file.write(content)\n",
    "        file.close()\n",
    "    \n",
    "    except FileNotFoundError as e:\n",
    "        print(\"File not found in the directory.\",e)\n",
    "\n",
    "\n",
    "myArray = np.array([[1, 2, 3], [4, 5, 6], [7, 8, 9]])\n",
    "save_array_to_text(myArray)\n"
   ],
   "outputs": [],
   "metadata": {}
  }
 ],
 "metadata": {
  "orig_nbformat": 4,
  "language_info": {
   "name": "python"
  }
 },
 "nbformat": 4,
 "nbformat_minor": 2
}