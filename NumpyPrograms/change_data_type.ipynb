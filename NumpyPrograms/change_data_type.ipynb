{
 "cells": [
  {
   "cell_type": "markdown",
   "source": [
    "@Author: Rikesh Chhetri\n",
    "\n",
    "@Date: 2021-07-12 \n",
    "\n",
    "@Last Modified by: Rikesh Chhetri\n",
    "\n",
    "@Last Modified time: 2021-07-12 07:03:30\n",
    "\n",
    "@Title : Program to to change the data type of an array."
   ],
   "metadata": {}
  },
  {
   "cell_type": "code",
   "execution_count": null,
   "source": [
    "from LogHandler import logger\n",
    "import numpy as np\n",
    "\n",
    "def change_data_type():\n",
    "    try:\n",
    "        array1 = np.array([[10,20,30],[20,40,50]],dtype = int )\n",
    "        print('Array before changing data type:\\n ',array1)\n",
    "        array2 = array1.astype(float)\n",
    "        print(\"Array after changing to float data type is:\\n \",array2)\n",
    "\n",
    "    except Exception as e:\n",
    "        logger.error(e)\n",
    "\n",
    "change_data_type()\n"
   ],
   "outputs": [],
   "metadata": {}
  }
 ],
 "metadata": {
  "orig_nbformat": 4,
  "language_info": {
   "name": "python"
  }
 },
 "nbformat": 4,
 "nbformat_minor": 2
}