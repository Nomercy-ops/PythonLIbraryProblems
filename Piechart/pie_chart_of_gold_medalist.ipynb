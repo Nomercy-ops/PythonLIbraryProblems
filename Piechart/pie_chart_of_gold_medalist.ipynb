{
 "cells": [
  {
   "cell_type": "markdown",
   "source": [
    "@Author: Rikesh Chhetri\n",
    "\n",
    "@Date: 2021-07-15\n",
    "\n",
    "@Last Modified by: Rikesh Chhetri\n",
    "\n",
    "@Last Modified time: 2021-07-15 07:03:30\n",
    "\n",
    "@Title : Program to create a pie chart of gold medal achievements of five most\n",
    "successful countries in 2016 Summer Olympics."
   ],
   "metadata": {}
  },
  {
   "cell_type": "code",
   "execution_count": null,
   "source": [
    "from matplotlib import pyplot as plt \n",
    "import pandas as pd\n",
    "from LogHandler import logger \n",
    "\n",
    "try:\n",
    "    df =  pd.read_csv('medal.csv')\n",
    "    country_data = df[\"country\"]\n",
    "    medal_data = df[\"gold_medal\"]\n",
    "    fig = plt.figure(figsize=(9,6))\n",
    "    fig.patch.set_facecolor('w')\n",
    "    explode = (0.1, 0, 0, 0, 0)  \n",
    "    plt.pie(medal_data, labels=country_data, explode=explode,\n",
    "    autopct='%1.1f%%',startangle=90)\n",
    "    plt.title(\"Gold medal achievements of five most successful\\n\"+\"countries in 2016 Summer Olympics\",bbox={'facecolor':'0.8', 'pad':4})\n",
    "    \n",
    "except Exception as e:\n",
    "    logger.error(e)"
   ],
   "outputs": [],
   "metadata": {}
  }
 ],
 "metadata": {
  "orig_nbformat": 4,
  "language_info": {
   "name": "python"
  }
 },
 "nbformat": 4,
 "nbformat_minor": 2
}