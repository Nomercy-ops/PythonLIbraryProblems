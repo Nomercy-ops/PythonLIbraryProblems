{
 "cells": [
  {
   "cell_type": "markdown",
   "source": [
    "\n",
    "@Author: Rikesh Chhetri\n",
    "\n",
    "@Date: 2021-07-15\n",
    "\n",
    "@Last Modified by: Rikesh Chhetri\n",
    "\n",
    "@Last Modified time: 2021-07-15 07:03:30\n",
    "\n",
    "@Title : Program to draw a barplot to show count for a deck for a dataset given in the url\n",
    "\n",
    "https://github.com/mwaskom/seaborn-data/blob/master/titanic.csv"
   ],
   "metadata": {}
  },
  {
   "cell_type": "code",
   "execution_count": 1,
   "source": [
    "import seaborn as sns\n",
    "from LogHandler import logger\n",
    "from matplotlib import pyplot as plt\n",
    "\n",
    "try:\n",
    "    df = sns.load_dataset('titanic')\n",
    "    sns.countplot(x = 'deck',data = df)\n",
    "    plt.show()\n",
    "\n",
    "except Exception as e:\n",
    "    logger.error(e)"
   ],
   "outputs": [
    {
     "output_type": "display_data",
     "data": {
      "text/plain": [
       "<Figure size 432x288 with 1 Axes>"
      ],
      "image/png": "[encoded data removed]"
     },
     "metadata": {
      "needs_background": "light"
     }
    }
   ],
   "metadata": {}
  }
 ],
 "metadata": {
  "orig_nbformat": 4,
  "language_info": {
   "name": "python"
  }
 },
 "nbformat": 4,
 "nbformat_minor": 2
}