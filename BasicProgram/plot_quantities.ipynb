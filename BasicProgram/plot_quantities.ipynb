{
 "cells": [
  {
   "cell_type": "markdown",
   "source": [
    "@Author: Rikesh Chhetri\n",
    "\n",
    "@Date: 2021-07-14 \n",
    "\n",
    "@Last Modified by: Rikesh Chhetri\n",
    "\n",
    "@Last Modified time: 2021-07-14 07:03:30\n",
    "\n",
    "@Title :  Program to plot quantities which have an x and y position.\n"
   ],
   "metadata": {}
  },
  {
   "cell_type": "code",
   "execution_count": 4,
   "source": [
    "from matplotlib import pyplot as plt\n",
    "from LogHandler import logger\n",
    "\n",
    "try:\n",
    "    x = [1, 2, 3, 4, 5, 6, 7, 8]\n",
    "    y = [2, 3, 1, 3, 1, 4, 2, 3]\n",
    "    plt.plot(x,y,'bo')\n",
    "    \n",
    "\n",
    "except Exception as e:\n",
    "    logger.error(e)\n"
   ],
   "outputs": [
    {
     "output_type": "display_data",
     "data": {
      "text/plain": [
       "<Figure size 432x288 with 1 Axes>"
      ],
      "image/png": "[encoded data removed]"
     },
     "metadata": {
      "needs_background": "light"
     }
    }
   ],
   "metadata": {}
  }
 ],
 "metadata": {
  "orig_nbformat": 4,
  "language_info": {
   "name": "python"
  }
 },
 "nbformat": 4,
 "nbformat_minor": 2
}