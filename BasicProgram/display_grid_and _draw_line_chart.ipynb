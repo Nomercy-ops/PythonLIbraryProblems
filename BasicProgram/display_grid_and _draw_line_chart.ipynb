{
 "cells": [
  {
   "cell_type": "markdown",
   "source": [
    "@Author: Rikesh Chhetri\n",
    "\n",
    "@Date: 2021-07-14 \n",
    "\n",
    "@Last Modified by: Rikesh Chhetri\n",
    "\n",
    "@Last Modified time: 2021-07-14 07:03:30\n",
    "\n",
    "@Title :  program to display the grid and draw line charts of the closing value of\n",
    "Alphabet Inc. between October 3, 2016 to October 7, 2016. Customized the grid lines with\n",
    "linestyle -, width .5. and color blue.\n"
   ],
   "metadata": {}
  },
  {
   "cell_type": "code",
   "execution_count": 5,
   "source": [
    "import datetime as DT\n",
    "from matplotlib import pyplot as plt\n",
    "from matplotlib.dates import date2num\n",
    "from LogHandler import logger\n",
    "\n",
    "try:\n",
    "\n",
    "    data = [(DT.datetime.strptime('2016-10-03', \"%Y-%m-%d\"), 772.559998),\n",
    "            (DT.datetime.strptime('2016-10-04', \"%Y-%m-%d\"), 776.429993),\n",
    "            (DT.datetime.strptime('2016-10-05', \"%Y-%m-%d\"), 776.469971),\n",
    "            (DT.datetime.strptime('2016-10-06', \"%Y-%m-%d\"), 776.859985),\n",
    "            (DT.datetime.strptime('2016-10-07', \"%Y-%m-%d\"), 775.080017 )]\n",
    "\n",
    "    x = [date2num(date) for (date, value) in data]\n",
    "    y = [value for (date, value) in data]\n",
    "\n",
    "    fig = plt.figure()\n",
    "    graph = fig.add_subplot(111)\n",
    "    \n",
    "\n",
    "    # Plot the data as a red line with round markers\n",
    "    graph.plot(x,y,'r-o')\n",
    "\n",
    "    # Set the xtick locations\n",
    "    graph.set_xticks(x)\n",
    "\n",
    "    #Set the xtick labels\n",
    "    graph.set_xticklabels(\n",
    "        [date.strftime(\"%Y-%m-%d\") for (date, value) in data]\n",
    "        )\n",
    "\n",
    "    # naming the x axis\n",
    "    plt.xlabel('Date')\n",
    "    # naming the y axis\n",
    "    plt.ylabel('Closing Value')\n",
    "    # giving a title  \n",
    "    plt.title('Closing stock value of Alphabet Inc.') \n",
    "    # Customize the grid\n",
    "    plt.grid(linestyle='-', linewidth='0.5', color='blue')\n",
    "\n",
    "except Exception as e:\n",
    "    logger.error(e)"
   ],
   "outputs": [
    {
     "output_type": "error",
     "ename": "SyntaxError",
     "evalue": "invalid syntax (1666287589.py, line 27)",
     "traceback": [
      "\u001b[0;36m  File \u001b[0;32m\"/tmp/ipykernel_13441/1666287589.py\"\u001b[0;36m, line \u001b[0;32m27\u001b[0m\n\u001b[0;31m    Set the xtick labels\u001b[0m\n\u001b[0m        ^\u001b[0m\n\u001b[0;31mSyntaxError\u001b[0m\u001b[0;31m:\u001b[0m invalid syntax\n"
     ]
    }
   ],
   "metadata": {}
  }
 ],
 "metadata": {
  "orig_nbformat": 4,
  "language_info": {
   "name": "python"
  }
 },
 "nbformat": 4,
 "nbformat_minor": 2
}