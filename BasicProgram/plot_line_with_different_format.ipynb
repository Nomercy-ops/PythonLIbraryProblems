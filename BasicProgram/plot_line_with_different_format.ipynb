{
 "cells": [
  {
   "cell_type": "markdown",
   "source": [
    "@Author: Rikesh Chhetri\n",
    "\n",
    "@Date: 2021-07-14 \n",
    "\n",
    "@Last Modified by: Rikesh Chhetri\n",
    "\n",
    "@Last Modified time: 2021-07-14 07:03:30\n",
    "\n",
    "@Title :  Program to plot several lines with different format styles in one command\n",
    "using arrays.\n"
   ],
   "metadata": {}
  },
  {
   "cell_type": "code",
   "execution_count": 3,
   "source": [
    "from matplotlib import pyplot as plt\n",
    "import numpy as np \n",
    "from LogHandler import logger\n",
    "\n",
    "try:\n",
    "    # Sampled time at 200ms intervals\n",
    "    time = np.arange(0., 5., 0.2)\n",
    "    # green dashes, blue squares and red triangles\n",
    "    plt.plot(time, time, 'g-', time, time**2, 'bo', time, time**3, 'rs')\n",
    "    \n",
    "except Exception as e:\n",
    "    logger.error(e)\n"
   ],
   "outputs": [
    {
     "output_type": "display_data",
     "data": {
      "text/plain": [
       "<Figure size 432x288 with 1 Axes>"
      ],
      "image/png": "[encoded data removed]"
     },
     "metadata": {
      "needs_background": "light"
     }
    }
   ],
   "metadata": {}
  }
 ],
 "metadata": {
  "orig_nbformat": 4,
  "language_info": {
   "name": "python"
  }
 },
 "nbformat": 4,
 "nbformat_minor": 2
}