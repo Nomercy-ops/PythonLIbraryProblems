{
 "cells": [
  {
   "cell_type": "markdown",
   "source": [
    "@Author: Rikesh Chhetri\n",
    "\n",
    "@Date: 2021-07-14 \n",
    "\n",
    "@Last Modified by: Rikesh Chhetri\n",
    "\n",
    "@Last Modified time: 2021-07-14 07:03:30\n",
    "\n",
    "@Title :  Program  to display a bar chart of the popularity of programming\n",
    "Languages.\n",
    "\n"
   ],
   "metadata": {}
  },
  {
   "cell_type": "code",
   "execution_count": null,
   "source": [
    "from matplotlib import pyplot as plt\n",
    "from LogHandler import logger"
   ],
   "outputs": [],
   "metadata": {}
  },
  {
   "cell_type": "code",
   "execution_count": null,
   "source": [
    "x = ['Java', 'Python', 'PHP', 'JavaScript', 'C#', 'C++']\n",
    "y = [22.2, 17.6, 8.8, 8, 7.7, 6.7]"
   ],
   "outputs": [],
   "metadata": {}
  },
  {
   "cell_type": "code",
   "execution_count": null,
   "source": [
    "def display_bar_chart():\n",
    "   try:\n",
    "      plt.bar(x,y)\n",
    "      plt.xlabel(\"Programming Languages\") \n",
    "      plt.ylabel(\"Popularity\")   \n",
    "      plt.title(\"Popularity of Programming Language\")\n",
    "\n",
    "   except Exception as e:\n",
    "      logger.error(e)\n",
    "\n",
    "display_bar_chart()"
   ],
   "outputs": [],
   "metadata": {}
  },
  {
   "cell_type": "markdown",
   "source": [
    "@Author: Rikesh Chhetri\n",
    "\n",
    "@Date: 2021-07-14 \n",
    "\n",
    "@Last Modified by: Rikesh Chhetri\n",
    "\n",
    "@Last Modified time: 2021-07-14 07:03:30\n",
    "\n",
    "@Title :  Program to display a horizontal bar chart of the popularity of\n",
    "programming Languages."
   ],
   "metadata": {}
  },
  {
   "cell_type": "code",
   "execution_count": null,
   "source": [
    "def display_horizontal_bar_chart():\n",
    "   try:\n",
    "      plt.barh(x,y)\n",
    "      plt.xlabel(\"Programming Languages\") \n",
    "      plt.ylabel(\"Popularity\")   \n",
    "      plt.title(\"Popularity of Programming Language\")\n",
    "\n",
    "   except Exception as e:\n",
    "      logger.error(e)\n",
    "\n",
    "display_horizontal_bar_chart()"
   ],
   "outputs": [],
   "metadata": {}
  },
  {
   "cell_type": "markdown",
   "source": [
    "@Author: Rikesh Chhetri\n",
    "\n",
    "@Date: 2021-07-14 \n",
    "\n",
    "@Last Modified by: Rikesh Chhetri\n",
    "\n",
    "@Last Modified time: 2021-07-14 07:03:30\n",
    "\n",
    "@Title :  Program to display a bar chart of the popularity of programming\n",
    "Languages. Use uniform color."
   ],
   "metadata": {}
  },
  {
   "cell_type": "code",
   "execution_count": null,
   "source": [
    "def display_uniform_color_bar_chart():\n",
    "   try:\n",
    "      plt.bar(x,y, color=(0.2, 0.4, 0.6, 0.6))\n",
    "      plt.xlabel(\"Programming Languages\") \n",
    "      plt.ylabel(\"Popularity\")   \n",
    "      plt.title(\"Popularity of Programming Language\")\n",
    "\n",
    "   except Exception as e:\n",
    "      logger.error(e)\n",
    "\n",
    "display_uniform_color_bar_chart()"
   ],
   "outputs": [],
   "metadata": {}
  },
  {
   "cell_type": "markdown",
   "source": [
    "@Author: Rikesh Chhetri\n",
    "\n",
    "@Date: 2021-07-14 \n",
    "\n",
    "@Last Modified by: Rikesh Chhetri\n",
    "\n",
    "@Last Modified time: 2021-07-14 07:03:30\n",
    "\n",
    "@Title :  Program to display a bar chart of the popularity of programming\n",
    "Languages. Use different color for each bar."
   ],
   "metadata": {}
  },
  {
   "cell_type": "code",
   "execution_count": null,
   "source": [
    "def use_different_color_for_bar():\n",
    "   try:\n",
    "      plt.bar(x,y, color=['#f89820', '#4B8BBE', '#474A8A', 'blue', 'cyan','green'])\n",
    "      plt.xlabel(\"Programming Languages\") \n",
    "      plt.ylabel(\"Popularity\")   \n",
    "      plt.title(\"Popularity of Programming Language\")\n",
    "\n",
    "   except Exception as e:\n",
    "      logger.error(e)\n",
    "\n",
    "use_different_color_for_bar()"
   ],
   "outputs": [],
   "metadata": {}
  }
 ],
 "metadata": {
  "orig_nbformat": 4,
  "language_info": {
   "name": "python"
  }
 },
 "nbformat": 4,
 "nbformat_minor": 2
}