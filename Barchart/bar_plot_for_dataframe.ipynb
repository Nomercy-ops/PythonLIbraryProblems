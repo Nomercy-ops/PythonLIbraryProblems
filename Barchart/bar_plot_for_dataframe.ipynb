{
 "cells": [
  {
   "cell_type": "markdown",
   "source": [
    "@Author: Rikesh Chhetri\n",
    "\n",
    "@Date: 2021-07-14 \n",
    "\n",
    "@Last Modified by: Rikesh Chhetri\n",
    "\n",
    "@Last Modified time: 2021-07-14 07:03:30\n",
    "\n",
    "@Title :  Program  to program to create bar plot from a DataFrame."
   ],
   "metadata": {}
  },
  {
   "cell_type": "code",
   "execution_count": 19,
   "source": [
    "from pandas import DataFrame\n",
    "from LogHandler import logger\n",
    "import matplotlib.pyplot as plt\n",
    "\n",
    "try:\n",
    "    a = [[4,8,5,7,6],[2,3,4,2,6],[4,7,4,7,8],[2,6,4,8,6],[2,4,3,3,2]]\n",
    "    df=DataFrame(a, columns=['a','b','c','d','e'], index=[2,4,6,8,10])\n",
    "    df.plot(kind='bar',width=0.8)\n",
    "    plt.grid(which='major', linestyle='-', linewidth='0.5', color='Red')\n",
    "    \n",
    "\n",
    "except Exception as e:\n",
    "    logger.error(e)"
   ],
   "outputs": [
    {
     "output_type": "display_data",
     "data": {
      "text/plain": [
       "<Figure size 432x288 with 1 Axes>"
      ],
      "image/png": "[encoded data removed]"
     },
     "metadata": {
      "needs_background": "light"
     }
    }
   ],
   "metadata": {}
  }
 ],
 "metadata": {
  "orig_nbformat": 4,
  "language_info": {
   "name": "python"
  }
 },
 "nbformat": 4,
 "nbformat_minor": 2
}