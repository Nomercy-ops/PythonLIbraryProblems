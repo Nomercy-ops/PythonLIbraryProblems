{
 "cells": [
  {
   "cell_type": "markdown",
   "source": [
    "@Author: Rikesh Chhetri\n",
    "\n",
    "@Date: 2021-07-14 \n",
    "\n",
    "@Last Modified by: Rikesh Chhetri\n",
    "\n",
    "@Last Modified time: 2021-07-14 07:03:30\n",
    "\n",
    "@Title :  Program  to program to create bar plot of scores by group and gender. Use multiple X\n",
    "values on the same chart for men and women.\n"
   ],
   "metadata": {}
  },
  {
   "cell_type": "code",
   "execution_count": 51,
   "source": [
    "from matplotlib import pyplot as plt\n",
    "import numpy as np \n",
    "from LogHandler import logger\n",
    "\n",
    "try:\n",
    "\n",
    "    groups = ['Group A','Group B','Group C','Group D','Group E']\n",
    "    men_means = [22, 30, 35, 35, 26]  \n",
    "    women_means = [25, 32, 30, 35, 29]\n",
    "\n",
    "    index = np.arange(len(groups))\n",
    "    \n",
    "    plt.bar(index + 0.2, men_means, 0.4, label = 'Men')\n",
    "    plt.bar(index - 0.2, women_means, 0.4, label = 'Women')\n",
    "    \n",
    "    plt.xticks(index, groups)\n",
    "    plt.xlabel('Person')\n",
    "    plt.ylabel('Scores')\n",
    "    plt.title('Scores by person')\n",
    "    plt.legend()\n",
    "    plt.tight_layout()\n",
    "\n",
    "except Exception as e:\n",
    "    logger.error(e)"
   ],
   "outputs": [
    {
     "output_type": "display_data",
     "data": {
      "text/plain": [
       "<Figure size 432x288 with 1 Axes>"
      ],
      "image/png": "[encoded data removed]"
     },
     "metadata": {
      "needs_background": "light"
     }
    }
   ],
   "metadata": {}
  }
 ],
 "metadata": {
  "orig_nbformat": 4,
  "language_info": {
   "name": "python"
  }
 },
 "nbformat": 4,
 "nbformat_minor": 2
}