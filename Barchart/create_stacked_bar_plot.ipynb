{
 "cells": [
  {
   "cell_type": "markdown",
   "source": [
    "@Author: Rikesh Chhetri\n",
    "\n",
    "@Date: 2021-07-14\n",
    "\n",
    "@Last Modified by: Rikesh Chhetri\n",
    "\n",
    "@Last Modified time: 2021-07-14 07:03:30\n",
    "\n",
    "@Title : Program to create a stacked bar plot with error bars."
   ],
   "metadata": {}
  },
  {
   "cell_type": "code",
   "execution_count": 7,
   "source": [
    "import numpy as np\n",
    "import matplotlib.pyplot as plt\n",
    "from LogHandler import logger\n",
    "\n",
    "def create_stacked_bar_plot():\n",
    "    try:\n",
    "        N = 5\n",
    "        menMeans = (22, 30, 35, 35, 26)\n",
    "        womenMeans = (25, 32, 30, 35, 29)\n",
    "        menStd = (4, 3, 4, 1, 5)\n",
    "        womenStd = (3, 5, 2, 3, 3)\n",
    "        # the x locations for the groups\n",
    "        ind = np.arange(N)    \n",
    "        # the width of the bars\n",
    "        width = 0.35      \n",
    "\n",
    "        plot1 = plt.bar(ind, menMeans, width, yerr=menStd, color='blue')\n",
    "        plot2 = plt.bar(ind, womenMeans, width,\n",
    "        bottom=menMeans, yerr=womenStd, color='green')\n",
    "\n",
    "        plt.ylabel('Scores')\n",
    "        plt.xlabel('Groups')\n",
    "        plt.title('Scores by group\\n' + 'and gender')\n",
    "        plt.xticks(ind, ('Group1', 'Group2', 'Group3', 'Group4', 'Group5'))\n",
    "        plt.yticks(np.arange(0, 81, 10))\n",
    "        plt.legend((plot1[0], plot2[0]), ('Men', 'Women'))\n",
    "\n",
    "    except Exception as e:\n",
    "        logger.error(e)\n",
    "\n",
    "create_stacked_bar_plot()"
   ],
   "outputs": [
    {
     "output_type": "display_data",
     "data": {
      "text/plain": [
       "<Figure size 432x288 with 1 Axes>"
      ],
      "image/png": "[encoded data removed]"
     },
     "metadata": {
      "needs_background": "light"
     }
    }
   ],
   "metadata": {}
  }
 ],
 "metadata": {
  "orig_nbformat": 4,
  "language_info": {
   "name": "python"
  }
 },
 "nbformat": 4,
 "nbformat_minor": 2
}