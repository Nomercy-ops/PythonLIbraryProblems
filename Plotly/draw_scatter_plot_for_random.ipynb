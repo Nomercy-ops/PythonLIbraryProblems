{
 "cells": [
  {
   "cell_type": "markdown",
   "source": [
    "@Author: Rikesh Chhetri\n",
    "\n",
    "@Date: 2021-07-15 22:00:30\n",
    "\n",
    "@Last Modified time: 2021-07-15 22:00:30\n",
    "\n",
    "@Title :Program to draw a scatter plot for random 1000 x and y coordinates"
   ],
   "metadata": {}
  },
  {
   "cell_type": "code",
   "execution_count": 2,
   "source": [
    "import numpy as np\n",
    "from plotly.offline import iplot\n",
    "import plotly.graph_objs as go\n",
    "from LogHandler import logger\n",
    "\n",
    "try:\n",
    "    x=np.random.rand(1000)\n",
    "    y=np.random.rand(1000)\n",
    "    trace= go.Scatter(\n",
    "        x=x,\n",
    "        y=y,\n",
    "        mode='markers'\n",
    "        )\n",
    "    data=[trace]\n",
    "    figure=go.Figure(data=data)\n",
    "    iplot(figure)\n",
    "\n",
    "except Exception as e:\n",
    "    logger.error(e)"
   ],
   "outputs": [
    {
     "output_type": "error",
     "ename": "SyntaxError",
     "evalue": "invalid syntax (2328584787.py, line 10)",
     "traceback": [
      "\u001b[0;36m  File \u001b[0;32m\"/tmp/ipykernel_3383/2328584787.py\"\u001b[0;36m, line \u001b[0;32m10\u001b[0m\n\u001b[0;31m    x=x,\u001b[0m\n\u001b[0m    ^\u001b[0m\n\u001b[0;31mSyntaxError\u001b[0m\u001b[0;31m:\u001b[0m invalid syntax\n"
     ]
    }
   ],
   "metadata": {}
  }
 ],
 "metadata": {
  "orig_nbformat": 4,
  "language_info": {
   "name": "python"
  }
 },
 "nbformat": 4,
 "nbformat_minor": 2
}